{
 "cells": [
  {
   "cell_type": "markdown",
   "metadata": {},
   "source": [
    "# mean reverting algo\n",
    "# connected to bybit / futures trading"
   ]
  },
  {
   "cell_type": "markdown",
   "metadata": {
    "tags": []
   },
   "source": [
    "# libraries"
   ]
  },
  {
   "cell_type": "code",
   "execution_count": 9,
   "metadata": {},
   "outputs": [],
   "source": [
    "import pandas as pd\n",
    "import pandas_datareader as pdr\n",
    "import numpy as np\n",
    "import json\n",
    "import requests\n",
    "import datetime as dt\n",
    "import schedule\n",
    "import time\n",
    "import math\n",
    "from binance.client import Client\n",
    "import os"
   ]
  },
  {
   "cell_type": "code",
   "execution_count": 1,
   "metadata": {},
   "outputs": [
    {
     "ename": "NameError",
     "evalue": "name 'os' is not defined",
     "output_type": "error",
     "traceback": [
      "\u001b[1;31m---------------------------------------------------------------------------\u001b[0m",
      "\u001b[1;31mNameError\u001b[0m                                 Traceback (most recent call last)",
      "Cell \u001b[1;32mIn[1], line 1\u001b[0m\n\u001b[1;32m----> 1\u001b[0m \u001b[43mos\u001b[49m\u001b[38;5;241m.\u001b[39menviron[\u001b[38;5;124m'\u001b[39m\u001b[38;5;124mAPI_KEY\u001b[39m\u001b[38;5;124m'\u001b[39m] \u001b[38;5;241m=\u001b[39m \u001b[38;5;124m'\u001b[39m\u001b[38;5;124mkey\u001b[39m\u001b[38;5;124m'\u001b[39m\n\u001b[0;32m      2\u001b[0m os\u001b[38;5;241m.\u001b[39menviron[\u001b[38;5;124m'\u001b[39m\u001b[38;5;124mAPI_SECRET\u001b[39m\u001b[38;5;124m'\u001b[39m] \u001b[38;5;241m=\u001b[39m \u001b[38;5;124m'\u001b[39m\u001b[38;5;124msecret\u001b[39m\u001b[38;5;124m'\u001b[39m\n",
      "\u001b[1;31mNameError\u001b[0m: name 'os' is not defined"
     ]
    }
   ],
   "source": [
    "os.environ['API_KEY'] = 'key'\n",
    "os.environ['API_SECRET'] = 'secret'"
   ]
  },
  {
   "cell_type": "markdown",
   "metadata": {},
   "source": [
    "# algo"
   ]
  },
  {
   "cell_type": "code",
   "execution_count": 11,
   "metadata": {},
   "outputs": [],
   "source": [
    "def strategy():\n",
    "    #data import\n",
    "    url = 'https://api.binance.com/api/v3/klines'\n",
    "    params = {'symbol': 'BTCUSDT', 'interval': '1h', 'limit': 800}\n",
    "    response = requests.get(url, params=params)\n",
    "    req = json.loads(response.text)\n",
    "    data = pd.DataFrame(req, columns=['timestamp', 'open', 'high', 'low', 'close', 'volume',\n",
    "                                     'close_time', 'qav', 'trades',\n",
    "                                     'taker_base_vol', 'taker_quote_vol', 'ignored'])\n",
    "    data.drop(columns=['open', 'high', 'low', 'volume', 'close_time', 'qav', 'trades','taker_base_vol', 'taker_quote_vol', 'ignored'], inplace = True)\n",
    "    data['timestamp'] = pd.to_datetime(data['timestamp'], unit='ms')\n",
    "    data.set_index('timestamp', inplace=True)\n",
    "    data['close'] = data['close'].astype(float)\n",
    "\n",
    "    # strategy\n",
    "    ma = 5\n",
    "    data['returns'] = np.log(data[\"close\"]).diff()\n",
    "    data['ma'] = data['close'].rolling(ma).mean()\n",
    "    data['ratio'] = data['close'] / data['ma']\n",
    "\n",
    "    # percentiles\n",
    "    percentiles = [7.01293, 44.356, 41.22, 95.66, 94.750435]\n",
    "    p = np.percentile(data['ratio'].dropna(), percentiles)\n",
    "\n",
    "    # entries\n",
    "    short = p[-1]\n",
    "    long = p[0]\n",
    "    data['position'] = np.where(data.ratio > short, -1, np.nan)\n",
    "    data['position'] = np.where(data.ratio < long, 1, data['position']) \n",
    "    data['position'] = data['position'].ffill()\n",
    "    data['entry'] =  data.position.diff()\n",
    "\n",
    "    # neutral\n",
    "    neutral_high = 1.154077131171284\n",
    "    neutral_low = 0.9366029469329376\n",
    "\n",
    "    data['position'] = np.where((data.ratio > neutral_high) & (data.position == -1), 0, data['position'])\n",
    "    data['position'] = np.where((data.ratio < neutral_low) & (data.position == 1), 0, data['position'])\n",
    "    data['position'] = data['position'].ffill()\n",
    "\n",
    "    new_position = data['position'][-1]\n",
    "    \n",
    "    # binance api\n",
    "    \n",
    "    # credentials\n",
    "    api_key = os.getenv('API_KEY')\n",
    "    api_secret = os.getenv('API_SECRET')\n",
    "\n",
    "    # % of the wallet to use in each trade\n",
    "    porcentaje_saldo = 0.85\n",
    "\n",
    "    # contract\n",
    "    symbol = 'BTCUSDT' \n",
    "    contract_type = 'PERPETUAL'\n",
    "\n",
    "    # leverage\n",
    "    leverage = 10\n",
    "\n",
    "    # creating an instance in the binance client\n",
    "    client = Client(api_key, api_secret)\n",
    "\n",
    "    # obtaining account total balance\n",
    "    account_info = client.futures_account()\n",
    "    balances = account_info['assets']\n",
    "\n",
    "    # calculating balance avialable for trading\n",
    "    for balance in balances:\n",
    "        if balance['asset'] == 'USDT':\n",
    "            total_balance = float(balance['walletBalance'])\n",
    "            break\n",
    "    else:\n",
    "        total_balance = 0.0\n",
    "\n",
    "    pos_size = total_balance * porcentaje_saldo # 85%\n",
    "\n",
    "    # margin\n",
    "    order_size = pos_size * leverage\n",
    "\n",
    "    # actual position\n",
    "    position_info = client.futures_position_information(symbol=symbol)\n",
    "    current_position = float(position_info[0]['positionAmt'])\n",
    "\n",
    "    # last pair price\n",
    "    ticker_price = client.futures_ticker(symbol=symbol)\n",
    "\n",
    "    # quantity to buy/sell\n",
    "    quantity = math.floor(order_size / float(ticker_price['lastPrice']) * 1000) / 1000\n",
    "\n",
    "    # closing last position (if not in neutral)\n",
    "    if current_position > 0 and new_position < 0:  # if there is a long pos, new pos will be short\n",
    "        order_side = Client.SIDE_SELL\n",
    "        quantity = abs(current_position)\n",
    "        order = client.futures_create_order(\n",
    "            symbol=symbol,\n",
    "            side=order_side,\n",
    "            type=Client.FUTURE_ORDER_TYPE_MARKET,\n",
    "            quantity=quantity,\n",
    "            newOrderRespType='RESULT',\n",
    "            recvWindow=60000\n",
    "        )\n",
    "        print(\"closed long position:\", order)\n",
    "        time.sleep(5)  # wait a few secs for the order to complete\n",
    "        current_position = 0  # update the new position to neutral\n",
    "    elif current_position < 0 and new_position > 0:  # if there is a short pos, new pos will be long\n",
    "        order_side = Client.SIDE_BUY\n",
    "        quantity = abs(current_position)\n",
    "        order = client.futures_create_order(\n",
    "            symbol=symbol,\n",
    "            side=order_side,\n",
    "            type=Client.FUTURE_ORDER_TYPE_MARKET,\n",
    "            quantity=quantity,\n",
    "            newOrderRespType='RESULT',\n",
    "            recvWindow=60000\n",
    "        )\n",
    "        print(\"closed short position:\", order)\n",
    "        time.sleep(5)  # wait a few secs for the order to complete\n",
    "        current_position = 0  # update the new position to neutral\n",
    "\n",
    "    # open a new position if there is none or if the current pos is neutral\n",
    "    if current_position == 0:\n",
    "        if new_position > 0:  # if long\n",
    "            order_side = Client.SIDE_BUY\n",
    "        else:  # if short\n",
    "            order_side = Client.SIDE_SELL\n",
    "        order = client.futures_create_order(\n",
    "            symbol=symbol,\n",
    "            side=order_side,\n",
    "            type=Client.FUTURE_ORDER_TYPE_MARKET,\n",
    "            quantity=quantity,\n",
    "            newOrderRespType='RESULT',\n",
    "            recvWindow=60000\n",
    "        )\n",
    "        print(\"new position opened:\", order)\n",
    "\n",
    "    # obtaining position info afert the order is executed\n",
    "    position_info = client.futures_position_information(symbol=symbol)\n",
    "    print(position_info) "
   ]
  },
  {
   "cell_type": "code",
   "execution_count": 12,
   "metadata": {},
   "outputs": [
    {
     "ename": "BinanceAPIException",
     "evalue": "APIError(code=-2015): Invalid API-key, IP, or permissions for action, request ip: 163.247.52.14",
     "output_type": "error",
     "traceback": [
      "\u001b[1;31m---------------------------------------------------------------------------\u001b[0m",
      "\u001b[1;31mBinanceAPIException\u001b[0m                       Traceback (most recent call last)",
      "Cell \u001b[1;32mIn[12], line 1\u001b[0m\n\u001b[1;32m----> 1\u001b[0m \u001b[43mstrategy\u001b[49m\u001b[43m(\u001b[49m\u001b[43m)\u001b[49m\n",
      "Cell \u001b[1;32mIn[11], line 63\u001b[0m, in \u001b[0;36mstrategy\u001b[1;34m()\u001b[0m\n\u001b[0;32m     60\u001b[0m client \u001b[38;5;241m=\u001b[39m Client(api_key, api_secret)\n\u001b[0;32m     62\u001b[0m \u001b[38;5;66;03m# obtaining account total balance\u001b[39;00m\n\u001b[1;32m---> 63\u001b[0m account_info \u001b[38;5;241m=\u001b[39m \u001b[43mclient\u001b[49m\u001b[38;5;241;43m.\u001b[39;49m\u001b[43mfutures_account\u001b[49m\u001b[43m(\u001b[49m\u001b[43m)\u001b[49m\n\u001b[0;32m     64\u001b[0m balances \u001b[38;5;241m=\u001b[39m account_info[\u001b[38;5;124m'\u001b[39m\u001b[38;5;124massets\u001b[39m\u001b[38;5;124m'\u001b[39m]\n\u001b[0;32m     66\u001b[0m \u001b[38;5;66;03m# calculating balance avialable for trading\u001b[39;00m\n",
      "File \u001b[1;32m~\\AppData\\Local\\Programs\\Python\\Python311\\Lib\\site-packages\\binance\\client.py:6287\u001b[0m, in \u001b[0;36mClient.futures_account\u001b[1;34m(self, **params)\u001b[0m\n\u001b[0;32m   6281\u001b[0m \u001b[38;5;28;01mdef\u001b[39;00m \u001b[38;5;21mfutures_account\u001b[39m(\u001b[38;5;28mself\u001b[39m, \u001b[38;5;241m*\u001b[39m\u001b[38;5;241m*\u001b[39mparams):\n\u001b[0;32m   6282\u001b[0m \u001b[38;5;250m    \u001b[39m\u001b[38;5;124;03m\"\"\"Get current account information.\u001b[39;00m\n\u001b[0;32m   6283\u001b[0m \n\u001b[0;32m   6284\u001b[0m \u001b[38;5;124;03m    https://binance-docs.github.io/apidocs/futures/en/#account-information-user_data\u001b[39;00m\n\u001b[0;32m   6285\u001b[0m \n\u001b[0;32m   6286\u001b[0m \u001b[38;5;124;03m    \"\"\"\u001b[39;00m\n\u001b[1;32m-> 6287\u001b[0m     \u001b[38;5;28;01mreturn\u001b[39;00m \u001b[38;5;28;43mself\u001b[39;49m\u001b[38;5;241;43m.\u001b[39;49m\u001b[43m_request_futures_api\u001b[49m\u001b[43m(\u001b[49m\u001b[38;5;124;43m'\u001b[39;49m\u001b[38;5;124;43mget\u001b[39;49m\u001b[38;5;124;43m'\u001b[39;49m\u001b[43m,\u001b[49m\u001b[43m \u001b[49m\u001b[38;5;124;43m'\u001b[39;49m\u001b[38;5;124;43maccount\u001b[39;49m\u001b[38;5;124;43m'\u001b[39;49m\u001b[43m,\u001b[49m\u001b[43m \u001b[49m\u001b[38;5;28;43;01mTrue\u001b[39;49;00m\u001b[43m,\u001b[49m\u001b[43m \u001b[49m\u001b[43mdata\u001b[49m\u001b[38;5;241;43m=\u001b[39;49m\u001b[43mparams\u001b[49m\u001b[43m)\u001b[49m\n",
      "File \u001b[1;32m~\\AppData\\Local\\Programs\\Python\\Python311\\Lib\\site-packages\\binance\\client.py:382\u001b[0m, in \u001b[0;36mClient._request_futures_api\u001b[1;34m(self, method, path, signed, **kwargs)\u001b[0m\n\u001b[0;32m    379\u001b[0m \u001b[38;5;28;01mdef\u001b[39;00m \u001b[38;5;21m_request_futures_api\u001b[39m(\u001b[38;5;28mself\u001b[39m, method, path, signed\u001b[38;5;241m=\u001b[39m\u001b[38;5;28;01mFalse\u001b[39;00m, \u001b[38;5;241m*\u001b[39m\u001b[38;5;241m*\u001b[39mkwargs) \u001b[38;5;241m-\u001b[39m\u001b[38;5;241m>\u001b[39m Dict:\n\u001b[0;32m    380\u001b[0m     uri \u001b[38;5;241m=\u001b[39m \u001b[38;5;28mself\u001b[39m\u001b[38;5;241m.\u001b[39m_create_futures_api_uri(path)\n\u001b[1;32m--> 382\u001b[0m     \u001b[38;5;28;01mreturn\u001b[39;00m \u001b[38;5;28;43mself\u001b[39;49m\u001b[38;5;241;43m.\u001b[39;49m\u001b[43m_request\u001b[49m\u001b[43m(\u001b[49m\u001b[43mmethod\u001b[49m\u001b[43m,\u001b[49m\u001b[43m \u001b[49m\u001b[43muri\u001b[49m\u001b[43m,\u001b[49m\u001b[43m \u001b[49m\u001b[43msigned\u001b[49m\u001b[43m,\u001b[49m\u001b[43m \u001b[49m\u001b[38;5;28;43;01mTrue\u001b[39;49;00m\u001b[43m,\u001b[49m\u001b[43m \u001b[49m\u001b[38;5;241;43m*\u001b[39;49m\u001b[38;5;241;43m*\u001b[39;49m\u001b[43mkwargs\u001b[49m\u001b[43m)\u001b[49m\n",
      "File \u001b[1;32m~\\AppData\\Local\\Programs\\Python\\Python311\\Lib\\site-packages\\binance\\client.py:358\u001b[0m, in \u001b[0;36mClient._request\u001b[1;34m(self, method, uri, signed, force_params, **kwargs)\u001b[0m\n\u001b[0;32m    355\u001b[0m kwargs \u001b[38;5;241m=\u001b[39m \u001b[38;5;28mself\u001b[39m\u001b[38;5;241m.\u001b[39m_get_request_kwargs(method, signed, force_params, \u001b[38;5;241m*\u001b[39m\u001b[38;5;241m*\u001b[39mkwargs)\n\u001b[0;32m    357\u001b[0m \u001b[38;5;28mself\u001b[39m\u001b[38;5;241m.\u001b[39mresponse \u001b[38;5;241m=\u001b[39m \u001b[38;5;28mgetattr\u001b[39m(\u001b[38;5;28mself\u001b[39m\u001b[38;5;241m.\u001b[39msession, method)(uri, \u001b[38;5;241m*\u001b[39m\u001b[38;5;241m*\u001b[39mkwargs)\n\u001b[1;32m--> 358\u001b[0m \u001b[38;5;28;01mreturn\u001b[39;00m \u001b[38;5;28;43mself\u001b[39;49m\u001b[38;5;241;43m.\u001b[39;49m\u001b[43m_handle_response\u001b[49m\u001b[43m(\u001b[49m\u001b[38;5;28;43mself\u001b[39;49m\u001b[38;5;241;43m.\u001b[39;49m\u001b[43mresponse\u001b[49m\u001b[43m)\u001b[49m\n",
      "File \u001b[1;32m~\\AppData\\Local\\Programs\\Python\\Python311\\Lib\\site-packages\\binance\\client.py:367\u001b[0m, in \u001b[0;36mClient._handle_response\u001b[1;34m(response)\u001b[0m\n\u001b[0;32m    362\u001b[0m \u001b[38;5;250m\u001b[39m\u001b[38;5;124;03m\"\"\"Internal helper for handling API responses from the Binance server.\u001b[39;00m\n\u001b[0;32m    363\u001b[0m \u001b[38;5;124;03mRaises the appropriate exceptions when necessary; otherwise, returns the\u001b[39;00m\n\u001b[0;32m    364\u001b[0m \u001b[38;5;124;03mresponse.\u001b[39;00m\n\u001b[0;32m    365\u001b[0m \u001b[38;5;124;03m\"\"\"\u001b[39;00m\n\u001b[0;32m    366\u001b[0m \u001b[38;5;28;01mif\u001b[39;00m \u001b[38;5;129;01mnot\u001b[39;00m (\u001b[38;5;241m200\u001b[39m \u001b[38;5;241m<\u001b[39m\u001b[38;5;241m=\u001b[39m response\u001b[38;5;241m.\u001b[39mstatus_code \u001b[38;5;241m<\u001b[39m \u001b[38;5;241m300\u001b[39m):\n\u001b[1;32m--> 367\u001b[0m     \u001b[38;5;28;01mraise\u001b[39;00m BinanceAPIException(response, response\u001b[38;5;241m.\u001b[39mstatus_code, response\u001b[38;5;241m.\u001b[39mtext)\n\u001b[0;32m    368\u001b[0m \u001b[38;5;28;01mtry\u001b[39;00m:\n\u001b[0;32m    369\u001b[0m     \u001b[38;5;28;01mreturn\u001b[39;00m response\u001b[38;5;241m.\u001b[39mjson()\n",
      "\u001b[1;31mBinanceAPIException\u001b[0m: APIError(code=-2015): Invalid API-key, IP, or permissions for action, request ip: 163.247.52.14"
     ]
    }
   ],
   "source": [
    "strategy()"
   ]
  },
  {
   "cell_type": "markdown",
   "metadata": {},
   "source": [
    "# execution (hourly)"
   ]
  },
  {
   "cell_type": "code",
   "execution_count": null,
   "metadata": {},
   "outputs": [
    {
     "name": "stdout",
     "output_type": "stream",
     "text": [
      "[{'symbol': 'BTCUSDT', 'positionAmt': '-0.002', 'entryPrice': '30575.9', 'markPrice': '30505.21657059', 'unRealizedProfit': '0.14136685', 'liquidationPrice': '35687.93248008', 'leverage': '10', 'maxNotionalValue': '30000000', 'marginType': 'cross', 'isolatedMargin': '0.00000000', 'isAutoAddMargin': 'false', 'positionSide': 'BOTH', 'notional': '-61.01043314', 'isolatedWallet': '0', 'updateTime': 1688215021849}]\n",
      "[{'symbol': 'BTCUSDT', 'positionAmt': '-0.002', 'entryPrice': '30575.9', 'markPrice': '30509.00000000', 'unRealizedProfit': '0.13380000', 'liquidationPrice': '35687.93248008', 'leverage': '10', 'maxNotionalValue': '30000000', 'marginType': 'cross', 'isolatedMargin': '0.00000000', 'isAutoAddMargin': 'false', 'positionSide': 'BOTH', 'notional': '-61.01800000', 'isolatedWallet': '0', 'updateTime': 1688215021849}]\n",
      "[{'symbol': 'BTCUSDT', 'positionAmt': '-0.002', 'entryPrice': '30575.9', 'markPrice': '30543.10000000', 'unRealizedProfit': '0.06560000', 'liquidationPrice': '35687.93248008', 'leverage': '10', 'maxNotionalValue': '30000000', 'marginType': 'cross', 'isolatedMargin': '0.00000000', 'isAutoAddMargin': 'false', 'positionSide': 'BOTH', 'notional': '-61.08620000', 'isolatedWallet': '0', 'updateTime': 1688215021849}]\n",
      "[{'symbol': 'BTCUSDT', 'positionAmt': '-0.002', 'entryPrice': '30575.9', 'markPrice': '30540.05327647', 'unRealizedProfit': '0.07169344', 'liquidationPrice': '35687.93248008', 'leverage': '10', 'maxNotionalValue': '30000000', 'marginType': 'cross', 'isolatedMargin': '0.00000000', 'isAutoAddMargin': 'false', 'positionSide': 'BOTH', 'notional': '-61.08010655', 'isolatedWallet': '0', 'updateTime': 1688215021849}]\n",
      "[{'symbol': 'BTCUSDT', 'positionAmt': '-0.002', 'entryPrice': '30575.9', 'markPrice': '30520.00000000', 'unRealizedProfit': '0.11180000', 'liquidationPrice': '35687.93248008', 'leverage': '10', 'maxNotionalValue': '30000000', 'marginType': 'cross', 'isolatedMargin': '0.00000000', 'isAutoAddMargin': 'false', 'positionSide': 'BOTH', 'notional': '-61.04000000', 'isolatedWallet': '0', 'updateTime': 1688215021849}]\n",
      "[{'symbol': 'BTCUSDT', 'positionAmt': '-0.002', 'entryPrice': '30575.9', 'markPrice': '30516.60000000', 'unRealizedProfit': '0.11860000', 'liquidationPrice': '35687.93248008', 'leverage': '10', 'maxNotionalValue': '30000000', 'marginType': 'cross', 'isolatedMargin': '0.00000000', 'isAutoAddMargin': 'false', 'positionSide': 'BOTH', 'notional': '-61.03320000', 'isolatedWallet': '0', 'updateTime': 1688215021849}]\n",
      "[{'symbol': 'BTCUSDT', 'positionAmt': '-0.002', 'entryPrice': '30575.9', 'markPrice': '30513.16031644', 'unRealizedProfit': '0.12547936', 'liquidationPrice': '35687.93248008', 'leverage': '10', 'maxNotionalValue': '30000000', 'marginType': 'cross', 'isolatedMargin': '0.00000000', 'isAutoAddMargin': 'false', 'positionSide': 'BOTH', 'notional': '-61.02632063', 'isolatedWallet': '0', 'updateTime': 1688215021849}]\n",
      "[{'symbol': 'BTCUSDT', 'positionAmt': '-0.002', 'entryPrice': '30575.9', 'markPrice': '30507.93776578', 'unRealizedProfit': '0.13592446', 'liquidationPrice': '35687.93248008', 'leverage': '10', 'maxNotionalValue': '30000000', 'marginType': 'cross', 'isolatedMargin': '0.00000000', 'isAutoAddMargin': 'false', 'positionSide': 'BOTH', 'notional': '-61.01587553', 'isolatedWallet': '0', 'updateTime': 1688215021849}]\n"
     ]
    }
   ],
   "source": [
    "schedule.every().hour.at(\":00\").do(strategy)\n",
    "schedule.every().hour.at(\":01\").do(strategy)\n",
    "while True:\n",
    "    schedule.run_pending()\n",
    "    time.sleep(1)"
   ]
  }
 ],
 "metadata": {
  "kernelspec": {
   "display_name": "Python 3 (ipykernel)",
   "language": "python",
   "name": "python3"
  },
  "language_info": {
   "codemirror_mode": {
    "name": "ipython",
    "version": 3
   },
   "file_extension": ".py",
   "mimetype": "text/x-python",
   "name": "python",
   "nbconvert_exporter": "python",
   "pygments_lexer": "ipython3",
   "version": "3.11.4"
  },
  "vscode": {
   "interpreter": {
    "hash": "356b7dbb22636888c47acc3e5ff832891eb1272585816e4fbdff1877edc2def3"
   }
  }
 },
 "nbformat": 4,
 "nbformat_minor": 4
}
